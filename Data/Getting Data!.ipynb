{
 "cells": [
  {
   "cell_type": "code",
   "execution_count": 1,
   "id": "774cce82",
   "metadata": {},
   "outputs": [],
   "source": [
    "import pandas as pd\n",
    "import numpy as np\n",
    "import os\n",
    "import matplotlib.pyplot as plt\n",
    "\n",
    "import warnings\n",
    "warnings.filterwarnings(\"ignore\")\n",
    "\n"
   ]
  },
  {
   "cell_type": "markdown",
   "id": "fe1a4880",
   "metadata": {},
   "source": [
    "## There is no need to run the following cells\n",
    "### They are used to get data from .csv files of different folders"
   ]
  },
  {
   "cell_type": "code",
   "execution_count": 1,
   "id": "b61a357a",
   "metadata": {},
   "outputs": [],
   "source": [
    "# folder_path = 'dataverse_files'\n",
    "# csv_files = [os.path.join(folder_path, file) for file in os.listdir(folder_path) if file.endswith('.csv')]\n",
    "# df_meteo = pd.concat((pd.read_csv(file) for file in csv_files), ignore_index=True)\n",
    "# df_meteo.to_csv('meteo.csv', index=False)"
   ]
  },
  {
   "cell_type": "code",
   "execution_count": 2,
   "id": "90746fe2",
   "metadata": {},
   "outputs": [],
   "source": [
    "# folder_path = 'export40'\n",
    "# csv_files = [os.path.join(folder_path, file) for file in os.listdir(folder_path) if file.endswith('.csv')]\n",
    "# df_percent = pd.concat((pd.read_csv(file, delimiter=\";\") for file in csv_files), ignore_index=True)\n",
    "# df_percent.to_csv('percent.csv', index=False)"
   ]
  },
  {
   "cell_type": "code",
   "execution_count": 3,
   "id": "65159ffe",
   "metadata": {},
   "outputs": [],
   "source": [
    "# folder_path = 'export41'\n",
    "# csv_files = [os.path.join(folder_path, file) for file in os.listdir(folder_path) if file.endswith('.csv')]\n",
    "# df_events = pd.concat((pd.read_csv(file, delimiter=\";\") for file in csv_files), ignore_index=True)\n",
    "# df_events = df_events.drop(columns=[\"noise_event_laeq_model_id_unit\",\"noise_event_laeq_model_id_unit\",'noise_event_laeq_primary_detected_class_unit'])\n",
    "# df_events.to_csv('events.csv', index=False)"
   ]
  },
  {
   "cell_type": "code",
   "execution_count": 4,
   "id": "ac3ebcf2",
   "metadata": {},
   "outputs": [],
   "source": [
    "# folder_path = 'export42'\n",
    "# csv_files = [os.path.join(folder_path, file) for file in os.listdir(folder_path) if file.endswith('.csv')]\n",
    "# dfs =[]\n",
    "# for file in csv_files:\n",
    "#     print(file)\n",
    "#     df = pd.read_csv(file,delimiter=\";\")\n",
    "#     df = df[df.index % 15 == 0]\n",
    "#     dfs.append(df)\n",
    "# #df_noise_level = pd.concat((pd.read_csv(file, delimiter=\";\") for file in csv_files), ignore_index=True)\n",
    "# df_noise_level = pd.concat(dfs)\n",
    "# df_noise_level.to_csv('noise_level_q1.csv', index=False)"
   ]
  },
  {
   "cell_type": "code",
   "execution_count": 5,
   "id": "63ad5796",
   "metadata": {},
   "outputs": [],
   "source": [
    "df_events = pd.read_csv(\"events.csv\")\n",
    "df_meteo = pd.read_csv('meteo.csv')\n",
    "df_percent = pd.read_csv('percent.csv')\n",
    "df_noise_level = pd.read_csv('noise_level.csv')"
   ]
  },
  {
   "cell_type": "code",
   "execution_count": 6,
   "id": "589a78ba",
   "metadata": {},
   "outputs": [],
   "source": [
    "#df_meteo = df_meteo.groupby([\"Year\",\"Month\",\"Day\",\"Hour\"]).aggregate('mean').reset_index()\n",
    "#df_meteo[\"LC_TEMP\"] = df_meteo[['LC_TEMP_QCL0', 'LC_TEMP_QCL1', 'LC_TEMP_QCL2', 'LC_TEMP_QCL3']].mean(axis=1)\n",
    "#df_meteo = df_meteo.drop(columns=['LC_TEMP_QCL0', 'LC_TEMP_QCL1', 'LC_TEMP_QCL2', 'LC_TEMP_QCL3'])\n",
    "#df_meteo.tail(10)\n"
   ]
  },
  {
   "cell_type": "code",
   "execution_count": null,
   "id": "07faaa93",
   "metadata": {},
   "outputs": [],
   "source": []
  }
 ],
 "metadata": {
  "kernelspec": {
   "display_name": "Python 3 (ipykernel)",
   "language": "python",
   "name": "python3"
  },
  "language_info": {
   "codemirror_mode": {
    "name": "ipython",
    "version": 3
   },
   "file_extension": ".py",
   "mimetype": "text/x-python",
   "name": "python",
   "nbconvert_exporter": "python",
   "pygments_lexer": "ipython3",
   "version": "3.9.1"
  }
 },
 "nbformat": 4,
 "nbformat_minor": 5
}
